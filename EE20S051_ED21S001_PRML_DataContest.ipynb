{
  "nbformat": 4,
  "nbformat_minor": 0,
  "metadata": {
    "colab": {
      "provenance": [],
      "collapsed_sections": [],
      "include_colab_link": true
    },
    "kernelspec": {
      "name": "python3",
      "display_name": "Python 3"
    },
    "language_info": {
      "name": "python"
    }
  },
  "cells": [
    {
      "cell_type": "markdown",
      "metadata": {
        "id": "view-in-github",
        "colab_type": "text"
      },
      "source": [
        "<a href=\"https://colab.research.google.com/github/rashmi05pathak/PRML_Data_Contest/blob/main/EE20S051_ED21S001_PRML_DataContest.ipynb\" target=\"_parent\"><img src=\"https://colab.research.google.com/assets/colab-badge.svg\" alt=\"Open In Colab\"/></a>"
      ]
    },
    {
      "cell_type": "code",
      "metadata": {
        "colab": {
          "base_uri": "https://localhost:8080/"
        },
        "id": "r_n8vXcXFa8v",
        "outputId": "6e226bbd-416b-42e1-8b04-a56d5555c6fc"
      },
      "source": [
        "from google.colab import drive\n",
        "drive.mount('/content/drive')"
      ],
      "execution_count": null,
      "outputs": [
        {
          "output_type": "stream",
          "name": "stdout",
          "text": [
            "Mounted at /content/drive\n"
          ]
        }
      ]
    },
    {
      "cell_type": "code",
      "metadata": {
        "id": "Te760AH3F_fg"
      },
      "source": [
        "import pandas as pd\n",
        "import numpy as np"
      ],
      "execution_count": null,
      "outputs": []
    },
    {
      "cell_type": "code",
      "metadata": {
        "id": "OUFEn6HyGeGX"
      },
      "source": [
        "path1 = '/content/drive/MyDrive/PRML_Data Contest/Dataset_1_Training.csv'\n",
        "path2 = '/content/drive/MyDrive/PRML_Data Contest/Dataset_2_Training.csv'\n",
        "path3 = '/content/drive/MyDrive/PRML_Data Contest/Dataset_1_Testing.csv'\n",
        "path4 = '/content/drive/MyDrive/PRML_Data Contest/Dataset_2_Testing.csv'"
      ],
      "execution_count": null,
      "outputs": []
    },
    {
      "cell_type": "code",
      "metadata": {
        "id": "LKWX3sAkG5Xg"
      },
      "source": [
        "####********Reading and preparing training data************######\n",
        "training_data1 = pd.read_csv(path1)\n",
        "training_data2 = pd.read_csv(path2)\n",
        "#Converting to numpy array\n",
        "training_data1_arr = training_data1.to_numpy() #working with 1st training data\n",
        "training_data1_arr = training_data1_arr.transpose() \n",
        "training_data2_arr = training_data2.to_numpy()#working with 2nd training data\n",
        "training_data2_arr = training_data2_arr.transpose() "
      ],
      "execution_count": null,
      "outputs": []
    },
    {
      "cell_type": "code",
      "metadata": {
        "id": "ZhwAirNOHamh"
      },
      "source": [
        "X_train1 = training_data1_arr[1:,0:22283]\n",
        "y_train_CO1 = training_data1_arr[1:,22283:22284]\n",
        "y_train_CO1 = y_train_CO1.ravel()\n",
        "y_train_CO1 = y_train_CO1.astype(int)"
      ],
      "execution_count": null,
      "outputs": []
    },
    {
      "cell_type": "code",
      "metadata": {
        "colab": {
          "base_uri": "https://localhost:8080/"
        },
        "id": "FOH3s4SoHAQL",
        "outputId": "749bb0cd-0b4b-4a1a-bfdf-c0faf034c8f9"
      },
      "source": [
        "y_train_CO2 = training_data1_arr[1:,22284:22285]\n",
        "y_train_CO2 = y_train_CO2.ravel()\n",
        "y_train_CO2 = y_train_CO2.astype(int)\n",
        "print(y_train_CO2.shape)"
      ],
      "execution_count": null,
      "outputs": [
        {
          "output_type": "stream",
          "name": "stdout",
          "text": [
            "(130,)\n"
          ]
        }
      ]
    },
    {
      "cell_type": "code",
      "metadata": {
        "id": "mZGMqmuJHgZR"
      },
      "source": [
        "X_train2 = training_data2_arr[1:,0:54675]\n",
        "y_train_CO3 = training_data2_arr[1:,54675:54676]\n",
        "y_train_CO3 = y_train_CO3.ravel()\n",
        "y_train_CO3 = y_train_CO3.astype(int)\n",
        "#print(y_train3.shape)"
      ],
      "execution_count": null,
      "outputs": []
    },
    {
      "cell_type": "code",
      "metadata": {
        "id": "rNKAT1j4HnBW"
      },
      "source": [
        "#***CO4 output in training data*******#\n",
        "y_train_CO4 = training_data2_arr[1:,54676:54677]\n",
        "y_train_CO4 = y_train_CO4.ravel()\n",
        "y_train_CO4 = y_train_CO4.astype(int)\n",
        "#print(y_train4.shape)"
      ],
      "execution_count": null,
      "outputs": []
    },
    {
      "cell_type": "code",
      "metadata": {
        "id": "_sluvIABHoQA"
      },
      "source": [
        "#***CO5 output in training data*******#\n",
        "y_train_CO5 = training_data2_arr[1:,54677:54678]\n",
        "y_train_CO5 = y_train_CO5.ravel()\n",
        "y_train_CO5 = y_train_CO5.astype(int)\n",
        "#print(y_train5.shape)"
      ],
      "execution_count": null,
      "outputs": []
    },
    {
      "cell_type": "code",
      "metadata": {
        "id": "i3xxVcj9HrL9"
      },
      "source": [
        "#***CO6 output in training data*******#\n",
        "y_train_CO6 = training_data2_arr[1:,54678:54679]\n",
        "y_train_CO6 = y_train_CO6.ravel()\n",
        "y_train_CO6 = y_train_CO6.astype(int)\n",
        "#print(y_train6.shape)"
      ],
      "execution_count": null,
      "outputs": []
    },
    {
      "cell_type": "code",
      "metadata": {
        "id": "vTvG2mjIHvtn"
      },
      "source": [
        "####********Reading and preparing Test data************######\n",
        "testing_data1 = pd.read_csv(path3)\n",
        "testing_data2 = pd.read_csv(path4)\n",
        "testing_data1_arr = testing_data1.to_numpy()\n",
        "testing_data2_arr = testing_data2.to_numpy()"
      ],
      "execution_count": null,
      "outputs": []
    },
    {
      "cell_type": "code",
      "metadata": {
        "colab": {
          "base_uri": "https://localhost:8080/"
        },
        "id": "niSq18Cr3QX_",
        "outputId": "9444700f-7102-4c81-9661-1f102e0f52e6"
      },
      "source": [
        "testing_data2.shape"
      ],
      "execution_count": null,
      "outputs": [
        {
          "output_type": "execute_result",
          "data": {
            "text/plain": [
              "(54675, 215)"
            ]
          },
          "metadata": {},
          "execution_count": 12
        }
      ]
    },
    {
      "cell_type": "code",
      "metadata": {
        "id": "CFbb7bKJHzbQ"
      },
      "source": [
        "testing_data1_arr = testing_data1_arr.transpose()\n",
        "X_test1 = testing_data1_arr[1:,0:22283]\n",
        "testing_data2_arr = testing_data2_arr.transpose()\n",
        "X_test2 = testing_data2_arr[1:,0:54675]"
      ],
      "execution_count": null,
      "outputs": []
    },
    {
      "cell_type": "code",
      "metadata": {
        "id": "Wvo9w8IHbcvb"
      },
      "source": [
        "def MCC_Score(TP,TN,FP,FN):\n",
        "    import math\n",
        "    val = (TP*TN)-(FP*FN)\n",
        "    denom = (TP+FP)*(TP+FN)*(TN+FP)*(TN+FN)\n",
        "    denom = math.sqrt(denom)\n",
        "    return val/denom"
      ],
      "execution_count": null,
      "outputs": []
    },
    {
      "cell_type": "code",
      "metadata": {
        "id": "b8dJ7OABY_ZX"
      },
      "source": [
        "from sklearn.svm import LinearSVC\n",
        "from sklearn.feature_selection import SelectFromModel\n",
        "from sklearn.linear_model import LogisticRegression\n",
        "#lsvc_CO1 = LinearSVC(C=0.01, penalty=\"l1\", dual=False).fit(X_train1, y_train_CO1)\n",
        "lsvc_CO1 = LogisticRegression(penalty='l2',C=0.001,random_state=0).fit(X_train1,y_train_CO1)"
      ],
      "execution_count": null,
      "outputs": []
    },
    {
      "cell_type": "code",
      "metadata": {
        "id": "xYIFOoWBZ24R"
      },
      "source": [
        "model_CO1 = SelectFromModel(lsvc_CO1, prefit=True)\n",
        "X_CO1_new = model_CO1.transform(X_train1)"
      ],
      "execution_count": null,
      "outputs": []
    },
    {
      "cell_type": "code",
      "metadata": {
        "colab": {
          "base_uri": "https://localhost:8080/"
        },
        "id": "dkVGLzgAlpEE",
        "outputId": "3b5cfd0d-78f7-4f32-952c-ed242e7f5d0e"
      },
      "source": [
        "y_train_CO1.shape"
      ],
      "execution_count": null,
      "outputs": [
        {
          "output_type": "execute_result",
          "data": {
            "text/plain": [
              "(130,)"
            ]
          },
          "metadata": {},
          "execution_count": 18
        }
      ]
    },
    {
      "cell_type": "code",
      "metadata": {
        "id": "VrKTVTCpiwJI"
      },
      "source": [
        "#******Used for hyperparameter tuning*************************#\n",
        "#from sklearn.model_selection import GridSearchCV\n",
        "#from sklearn.ensemble import AdaBoostClassifier\n",
        "#from sklearn.model_selection import cross_val_score\n",
        "#grid = dict()\n",
        "#grid['n_estimators'] = [10, 50, 100, 500]\n",
        "#grid['learning_rate'] = [0.0001, 0.001, 0.01, 0.1, 1.0]\n",
        "#grid['algorithm'] = ['SAMME', 'SAMME.R']\n",
        "\n",
        "\n",
        "#grid_search = GridSearchCV(estimator=AdaBoostClassifier(), param_grid=grid, n_jobs=-1, cv=10, scoring='accuracy')\n",
        "# execute the grid search\n",
        "#grid_result = grid_search.fit(X_CO1_new, y_train_CO1)\n",
        "# summarize the best score and configuration\n",
        "#print(\"Best: %f using %s\" % (grid_result.best_score_, grid_result.best_params_))\n",
        "\n"
      ],
      "execution_count": null,
      "outputs": []
    },
    {
      "cell_type": "code",
      "metadata": {
        "id": "mSXiWqNEZS4F"
      },
      "source": [
        "#from sklearn.model_selection import train_test_split\n",
        "#X_train_CO1, X_test_CO1, y_train_CO1_n, y_test_CO1_n = train_test_split(X_CO1_new, y_train_CO1, test_size=0.20, random_state=21)"
      ],
      "execution_count": null,
      "outputs": []
    },
    {
      "cell_type": "code",
      "metadata": {
        "colab": {
          "base_uri": "https://localhost:8080/"
        },
        "id": "msvZjKm2l_OZ",
        "outputId": "340cbbb8-e46f-4483-c767-b916fe5d093b"
      },
      "source": [
        "X_test_CO1.shape"
      ],
      "execution_count": null,
      "outputs": [
        {
          "output_type": "execute_result",
          "data": {
            "text/plain": [
              "(26, 8411)"
            ]
          },
          "metadata": {},
          "execution_count": 53
        }
      ]
    },
    {
      "cell_type": "code",
      "metadata": {
        "id": "yqoD3Rz3ai9l"
      },
      "source": [
        "#from sklearn.ensemble import AdaBoostClassifier\n",
        "#abc = AdaBoostClassifier(base_estimator=None, n_estimators=50, learning_rate=0.1,\n",
        "#                         algorithm='SAMME', random_state=4)\n",
        "from sklearn.linear_model import LogisticRegression\n",
        "clf = LogisticRegression(penalty='l2',C=0.001,random_state=0)"
      ],
      "execution_count": null,
      "outputs": []
    },
    {
      "cell_type": "code",
      "metadata": {
        "id": "cJRZY4-Qa27w"
      },
      "source": [
        "clf = clf.fit(X_CO1_new,y_train_CO1)"
      ],
      "execution_count": null,
      "outputs": []
    },
    {
      "cell_type": "code",
      "metadata": {
        "colab": {
          "base_uri": "https://localhost:8080/"
        },
        "id": "nhZKQWiYrdtT",
        "outputId": "ad5d66db-3696-4eef-c619-5f8ef5fb5622"
      },
      "source": [
        "#*******Getting test data of shape of same as train data***********\n",
        "arr_ind = model_CO1.get_support()\n",
        "arr_ind.shape"
      ],
      "execution_count": null,
      "outputs": [
        {
          "output_type": "execute_result",
          "data": {
            "text/plain": [
              "(22283,)"
            ]
          },
          "metadata": {},
          "execution_count": 21
        }
      ]
    },
    {
      "cell_type": "code",
      "metadata": {
        "id": "7CLk9lCirH-W"
      },
      "source": [
        "X_test_CO1_new = np.zeros((X_test1.shape[0],X_CO1_new.shape[1]))\n",
        "j = 0\n",
        "for i in range(arr_ind.shape[0]):\n",
        "    if(arr_ind[i] == True):\n",
        "      X_test_CO1_new[:,j] = X_test1[:,i]\n",
        "      j = j+1"
      ],
      "execution_count": null,
      "outputs": []
    },
    {
      "cell_type": "code",
      "metadata": {
        "id": "mhAdFklzbJ5X"
      },
      "source": [
        "y_pred_CO1 = clf.predict(X_test_CO1_new)"
      ],
      "execution_count": null,
      "outputs": []
    },
    {
      "cell_type": "code",
      "metadata": {
        "colab": {
          "base_uri": "https://localhost:8080/"
        },
        "id": "AaO2a_XKWoMg",
        "outputId": "16fc7a5a-3aa1-4c6b-9088-9c14eec285ba"
      },
      "source": [
        "y_pred_CO1"
      ],
      "execution_count": null,
      "outputs": [
        {
          "output_type": "execute_result",
          "data": {
            "text/plain": [
              "array([0, 0, 0, 0, 0, 0, 0, 1, 1, 0, 1, 0, 0, 0, 0, 1, 0, 0, 0, 0, 0, 0,\n",
              "       0, 0, 0, 0, 0, 0, 1, 1, 0, 0, 0, 0, 0, 1, 0, 0, 0, 1, 0, 0, 0, 0,\n",
              "       0, 0, 1, 0, 0, 1, 0, 0, 0, 0, 0, 0, 1, 1, 1, 0, 1, 0, 0, 0, 0, 0,\n",
              "       0, 0, 0, 1, 0, 0, 0, 0, 1, 0, 0, 1, 1, 0, 0, 0, 0, 0, 0, 0, 1, 0,\n",
              "       0, 0, 0, 0, 0, 0, 0, 0, 0, 0, 0, 0])"
            ]
          },
          "metadata": {},
          "execution_count": 24
        }
      ]
    },
    {
      "cell_type": "code",
      "metadata": {
        "id": "1sR2iziXbW-R"
      },
      "source": [
        "##from sklearn.metrics import confusion_matrix\n",
        "#c = confusion_matrix(y_test_CO1_n, y_pred_CO1)\n",
        "#MCC_Score(c[1][1],c[0][0],c[0][1],c[1][0])"
      ],
      "execution_count": null,
      "outputs": []
    },
    {
      "cell_type": "code",
      "metadata": {
        "id": "jHMpRzvfbrjR"
      },
      "source": [
        "#*********CO2*****************\n",
        "from sklearn.svm import LinearSVC\n",
        "from sklearn.feature_selection import SelectFromModel\n",
        "lsvc_CO2 = LinearSVC(C=0.01, penalty=\"l1\", dual=False).fit(X_train1, y_train_CO2)\n",
        "model_CO2 = SelectFromModel(lsvc_CO2, prefit=True)\n",
        "X_CO2 = model_CO2.transform(X_train1)"
      ],
      "execution_count": null,
      "outputs": []
    },
    {
      "cell_type": "code",
      "metadata": {
        "id": "ei08et0Lb9yT"
      },
      "source": [
        "#X_train_CO2, X_test_CO2, y_train_CO2, y_test_CO2 = train_test_split(X_CO2, y_train_CO2, test_size=0.20, random_state=21)"
      ],
      "execution_count": null,
      "outputs": []
    },
    {
      "cell_type": "code",
      "metadata": {
        "id": "1o8a9lU8cQow"
      },
      "source": [
        "from sklearn.ensemble import RandomForestClassifier\n",
        "rf_Model_2 = RandomForestClassifier(n_estimators=17, criterion='gini', max_depth=4,\n",
        "                                  min_samples_split=2, min_samples_leaf=2,\n",
        "                                  min_weight_fraction_leaf=0.0, max_features='sqrt',\n",
        "                                  max_leaf_nodes=None, min_impurity_decrease=0.0,\n",
        "                                  bootstrap=False, oob_score=False, n_jobs=None, random_state=4, verbose=0,\n",
        "                                  warm_start=False, class_weight=None, ccp_alpha=0.0, max_samples=None)"
      ],
      "execution_count": null,
      "outputs": []
    },
    {
      "cell_type": "code",
      "metadata": {
        "id": "oZkHOoI5cmLz"
      },
      "source": [
        "rf_Model_2 = rf_Model_2.fit(X_CO2,y_train_CO2)"
      ],
      "execution_count": null,
      "outputs": []
    },
    {
      "cell_type": "code",
      "metadata": {
        "colab": {
          "base_uri": "https://localhost:8080/"
        },
        "id": "_CRUwlJXr74p",
        "outputId": "aa4748bf-f834-49cc-a927-bd39e0125427"
      },
      "source": [
        "#*******Getting test data of shape of same as train data***********\n",
        "arr_ind = model_CO2.get_support()\n",
        "arr_ind.shape"
      ],
      "execution_count": null,
      "outputs": [
        {
          "output_type": "execute_result",
          "data": {
            "text/plain": [
              "(22283,)"
            ]
          },
          "metadata": {},
          "execution_count": 28
        }
      ]
    },
    {
      "cell_type": "code",
      "metadata": {
        "id": "Er1Rldq2r-nx"
      },
      "source": [
        "X_test_CO2_new = np.zeros((X_test1.shape[0],X_CO2.shape[1]))\n",
        "j = 0\n",
        "for i in range(arr_ind.shape[0]):\n",
        "    if(arr_ind[i] == True):\n",
        "      X_test_CO2_new[:,j] = X_test1[:,i]\n",
        "      j = j+1"
      ],
      "execution_count": null,
      "outputs": []
    },
    {
      "cell_type": "code",
      "metadata": {
        "id": "5CvxU-DTcwSv"
      },
      "source": [
        "y_pred_CO2 = rf_Model_2.predict(X_test_CO2_new)"
      ],
      "execution_count": null,
      "outputs": []
    },
    {
      "cell_type": "code",
      "metadata": {
        "colab": {
          "base_uri": "https://localhost:8080/"
        },
        "id": "OfMoI5JNWyr9",
        "outputId": "b6f61ecb-de39-430f-ebc5-2ff74fd8370b"
      },
      "source": [
        "y_pred_CO2"
      ],
      "execution_count": null,
      "outputs": [
        {
          "output_type": "execute_result",
          "data": {
            "text/plain": [
              "array([1, 0, 0, 1, 1, 0, 0, 0, 0, 0, 0, 0, 0, 0, 1, 0, 0, 0, 0, 0, 0, 0,\n",
              "       0, 1, 1, 0, 1, 0, 0, 1, 1, 0, 0, 1, 0, 0, 0, 0, 0, 0, 0, 1, 0, 1,\n",
              "       1, 0, 0, 0, 0, 0, 0, 0, 0, 0, 0, 0, 0, 0, 0, 1, 0, 0, 0, 1, 0, 0,\n",
              "       0, 1, 0, 0, 1, 1, 0, 0, 0, 0, 0, 0, 0, 0, 0, 1, 0, 0, 1, 1, 0, 1,\n",
              "       0, 0, 0, 0, 1, 0, 1, 0, 1, 0, 0, 0])"
            ]
          },
          "metadata": {},
          "execution_count": 31
        }
      ]
    },
    {
      "cell_type": "code",
      "metadata": {
        "id": "Gxmgzt5Uc4I3"
      },
      "source": [
        "#from sklearn.metrics import confusion_matrix\n",
        "#c = confusion_matrix(y_test_CO2, y_pred_CO2)\n",
        "#MCC_Score(c[1][1],c[0][0],c[0][1],c[1][0])"
      ],
      "execution_count": null,
      "outputs": []
    },
    {
      "cell_type": "code",
      "metadata": {
        "id": "OnsDCk9wdFgm",
        "colab": {
          "base_uri": "https://localhost:8080/"
        },
        "outputId": "8efb1ee2-1ba3-433a-d3de-a786d0e00942"
      },
      "source": [
        "#********CO3************#####\n",
        "from sklearn.linear_model import LogisticRegression\n",
        "from sklearn.ensemble import RandomForestClassifier\n",
        "lg3 = LogisticRegression(C = 0.001,penalty = 'l2',random_state = 4)\n",
        "#lsvc_CO3 = LinearSVC(C=0.01, penalty=\"l1\", dual=False).fit(X_train2, y_train_CO3)\n",
        "model_CO3 = SelectFromModel(lg3).fit(X_train2,y_train_CO3)\n",
        "X_CO3 = model_CO3.transform(X_train2)"
      ],
      "execution_count": null,
      "outputs": [
        {
          "output_type": "stream",
          "name": "stderr",
          "text": [
            "/usr/local/lib/python3.7/dist-packages/sklearn/linear_model/_logistic.py:940: ConvergenceWarning: lbfgs failed to converge (status=1):\n",
            "STOP: TOTAL NO. of ITERATIONS REACHED LIMIT.\n",
            "\n",
            "Increase the number of iterations (max_iter) or scale the data as shown in:\n",
            "    https://scikit-learn.org/stable/modules/preprocessing.html\n",
            "Please also refer to the documentation for alternative solver options:\n",
            "    https://scikit-learn.org/stable/modules/linear_model.html#logistic-regression\n",
            "  extra_warning_msg=_LOGISTIC_SOLVER_CONVERGENCE_MSG)\n"
          ]
        }
      ]
    },
    {
      "cell_type": "code",
      "metadata": {
        "colab": {
          "base_uri": "https://localhost:8080/"
        },
        "id": "vC7ZKnSd8Mep",
        "outputId": "49e27099-2d09-4ac3-a3a8-3b00f61a7fac"
      },
      "source": [
        "X_CO3.shape"
      ],
      "execution_count": null,
      "outputs": [
        {
          "output_type": "execute_result",
          "data": {
            "text/plain": [
              "(340, 21017)"
            ]
          },
          "metadata": {},
          "execution_count": 35
        }
      ]
    },
    {
      "cell_type": "code",
      "metadata": {
        "id": "RsEHjuRn4Kfc"
      },
      "source": [
        "#******Used for hyperparameter tuning*************************#\n",
        "#from sklearn.model_selection import GridSearchCV\n",
        "#from sklearn.linear_model import LogisticRegression\n",
        "#from sklearn.model_selection import cross_val_score\n",
        "#grid = dict()\n",
        "#grid['penalty'] = ['l1', 'l2', 'elasticnet', 'none']\n",
        "#grid['C'] = [0.0001, 0.001, 0.01, 0.1, 1.0]\n",
        "#grid['algorithm'] = ['SAMME', 'SAMME.R']\n",
        "\n",
        "\n",
        "#grid_search = GridSearchCV(estimator=LogisticRegression(), param_grid=grid, n_jobs=-1, cv=10, scoring='accuracy')\n",
        "# execute the grid search\n",
        "#grid_result = grid_search.fit(X_CO3, y_train_CO3)\n",
        "# summarize the best score and configuration\n",
        "#print(\"Best: %f using %s\" % (grid_result.best_score_, grid_result.best_params_))"
      ],
      "execution_count": null,
      "outputs": []
    },
    {
      "cell_type": "code",
      "metadata": {
        "colab": {
          "base_uri": "https://localhost:8080/"
        },
        "id": "I1gTpdAIg0aU",
        "outputId": "9d7fdfbc-3c81-4bd9-9b45-0208a39b4b21"
      },
      "source": [
        "y_train_CO3.shape"
      ],
      "execution_count": null,
      "outputs": [
        {
          "output_type": "execute_result",
          "data": {
            "text/plain": [
              "(340,)"
            ]
          },
          "metadata": {},
          "execution_count": 36
        }
      ]
    },
    {
      "cell_type": "code",
      "metadata": {
        "id": "f27G-25jht6x"
      },
      "source": [
        "#from sklearn.model_selection import train_test_split\n",
        "#X_train_CO3, X_test_CO3, y_train_CO3_n, y_test_CO3 = train_test_split(X_CO3, y_train_CO3, test_size=0.20, random_state=21)"
      ],
      "execution_count": null,
      "outputs": []
    },
    {
      "cell_type": "code",
      "metadata": {
        "id": "yWC1JxCPh6eC"
      },
      "source": [
        "#lsvc_CO3 = LinearSVC(C=0.01, penalty=\"l1\", dual=False).fit(X_train_CO3, y_train_CO3)"
      ],
      "execution_count": null,
      "outputs": []
    },
    {
      "cell_type": "code",
      "metadata": {
        "id": "xIMaUvdtl2Hg"
      },
      "source": [
        "#rf_Model_3 = RandomForestClassifier(n_estimators=17, criterion='gini', max_depth=2,\n",
        " #                                 min_samples_split=2, min_samples_leaf=1,\n",
        " #                                 max_features='auto',bootstrap=False,random_state = 4)"
      ],
      "execution_count": null,
      "outputs": []
    },
    {
      "cell_type": "code",
      "metadata": {
        "id": "SS29PPyK8_ev"
      },
      "source": [
        "lg3 = LogisticRegression(C = 1.0,penalty = 'l2',random_state = 4)"
      ],
      "execution_count": null,
      "outputs": []
    },
    {
      "cell_type": "code",
      "metadata": {
        "id": "4d-GftLpicZg",
        "colab": {
          "base_uri": "https://localhost:8080/"
        },
        "outputId": "7be241e9-60ab-41da-cf1b-5bd725c0d14c"
      },
      "source": [
        "lg3 = lg3.fit(X_CO3,y_train_CO3)"
      ],
      "execution_count": null,
      "outputs": [
        {
          "output_type": "stream",
          "name": "stderr",
          "text": [
            "/usr/local/lib/python3.7/dist-packages/sklearn/linear_model/_logistic.py:940: ConvergenceWarning: lbfgs failed to converge (status=1):\n",
            "STOP: TOTAL NO. of ITERATIONS REACHED LIMIT.\n",
            "\n",
            "Increase the number of iterations (max_iter) or scale the data as shown in:\n",
            "    https://scikit-learn.org/stable/modules/preprocessing.html\n",
            "Please also refer to the documentation for alternative solver options:\n",
            "    https://scikit-learn.org/stable/modules/linear_model.html#logistic-regression\n",
            "  extra_warning_msg=_LOGISTIC_SOLVER_CONVERGENCE_MSG)\n"
          ]
        }
      ]
    },
    {
      "cell_type": "code",
      "metadata": {
        "colab": {
          "base_uri": "https://localhost:8080/"
        },
        "id": "oTvO5pmescpE",
        "outputId": "f487dec3-29df-4896-c1c3-86bc45b43bb1"
      },
      "source": [
        "#*******Getting test data of shape of same as train data***********\n",
        "arr_ind = model_CO3.get_support()\n",
        "arr_ind.shape"
      ],
      "execution_count": null,
      "outputs": [
        {
          "output_type": "execute_result",
          "data": {
            "text/plain": [
              "(54675,)"
            ]
          },
          "metadata": {},
          "execution_count": 39
        }
      ]
    },
    {
      "cell_type": "code",
      "metadata": {
        "id": "kT4krIqZs1CN"
      },
      "source": [
        "\n",
        "X_test_CO3_new = np.zeros((X_test2.shape[0],X_CO3.shape[1]))\n",
        "j = 0\n",
        "for i in range(arr_ind.shape[0]):\n",
        "    if(arr_ind[i] == True):\n",
        "      X_test_CO3_new[:,j] = X_test2[:,i]\n",
        "      j = j+1"
      ],
      "execution_count": null,
      "outputs": []
    },
    {
      "cell_type": "code",
      "metadata": {
        "id": "ofoOt1WQisHf"
      },
      "source": [
        "y_pred_CO3 = lg3.predict(X_test_CO3_new)"
      ],
      "execution_count": null,
      "outputs": []
    },
    {
      "cell_type": "code",
      "metadata": {
        "colab": {
          "base_uri": "https://localhost:8080/"
        },
        "id": "l1TSkJuJW8j7",
        "outputId": "70829b0f-dd79-47ca-e529-150234ff3cd8"
      },
      "source": [
        "y_pred_CO3"
      ],
      "execution_count": null,
      "outputs": [
        {
          "output_type": "execute_result",
          "data": {
            "text/plain": [
              "array([0, 0, 0, 0, 0, 0, 0, 0, 0, 1, 0, 0, 0, 0, 0, 0, 0, 0, 0, 0, 0, 1,\n",
              "       0, 0, 1, 0, 1, 0, 0, 0, 1, 0, 0, 0, 0, 0, 0, 0, 0, 0, 0, 0, 0, 0,\n",
              "       0, 0, 0, 0, 0, 0, 1, 0, 0, 0, 0, 0, 0, 0, 0, 0, 1, 0, 0, 0, 0, 0,\n",
              "       0, 0, 1, 0, 0, 0, 0, 0, 0, 0, 0, 0, 0, 0, 0, 1, 0, 0, 0, 0, 0, 0,\n",
              "       1, 0, 0, 0, 0, 0, 0, 0, 1, 0, 0, 0, 0, 1, 0, 0, 0, 0, 0, 0, 0, 0,\n",
              "       0, 0, 0, 0, 0, 0, 1, 0, 0, 0, 0, 0, 0, 0, 0, 0, 0, 0, 0, 0, 0, 0,\n",
              "       0, 0, 0, 0, 0, 0, 0, 0, 0, 0, 0, 0, 0, 0, 0, 0, 0, 0, 0, 0, 0, 0,\n",
              "       0, 0, 0, 0, 0, 0, 1, 0, 1, 0, 0, 0, 0, 0, 0, 0, 0, 0, 0, 0, 0, 0,\n",
              "       0, 1, 0, 0, 0, 0, 1, 0, 0, 0, 0, 0, 1, 0, 0, 0, 0, 0, 1, 0, 0, 0,\n",
              "       0, 0, 0, 0, 0, 0, 0, 0, 0, 0, 0, 0, 0, 0, 1, 0])"
            ]
          },
          "metadata": {},
          "execution_count": 42
        }
      ]
    },
    {
      "cell_type": "code",
      "metadata": {
        "colab": {
          "base_uri": "https://localhost:8080/"
        },
        "id": "TxCqda9viw74",
        "outputId": "5ff9b9b1-39cf-4668-911a-69bcdad3ee0b"
      },
      "source": [
        "#from sklearn.metrics import confusion_matrix\n",
        "#c = confusion_matrix(y_test_CO3, y_pred_CO3)\n",
        "#MCC_Score(c[1][1],c[0][0],c[0][1],c[1][0])"
      ],
      "execution_count": null,
      "outputs": [
        {
          "output_type": "execute_result",
          "data": {
            "text/plain": [
              "0.8563596509947511"
            ]
          },
          "metadata": {},
          "execution_count": 51
        }
      ]
    },
    {
      "cell_type": "code",
      "metadata": {
        "colab": {
          "base_uri": "https://localhost:8080/"
        },
        "id": "uqCrEZFO-qfd",
        "outputId": "268c78b6-165b-487e-b6b6-d1aa7fae2515"
      },
      "source": [
        "#from sklearn.metrics import matthews_corrcoef\n",
        "#matthews_corrcoef(y_test_CO3, y_pred_CO3)"
      ],
      "execution_count": null,
      "outputs": [
        {
          "output_type": "execute_result",
          "data": {
            "text/plain": [
              "0.8563596509947511"
            ]
          },
          "metadata": {},
          "execution_count": 52
        }
      ]
    },
    {
      "cell_type": "code",
      "metadata": {
        "colab": {
          "base_uri": "https://localhost:8080/"
        },
        "id": "US2Hrc4vhQTJ",
        "outputId": "e4421dbd-1dce-4b69-a68d-7247e26cb6f5"
      },
      "source": [
        "X_test_CO3_new.shape\n",
        "#**************************************************************"
      ],
      "execution_count": null,
      "outputs": [
        {
          "output_type": "execute_result",
          "data": {
            "text/plain": [
              "(214, 62)"
            ]
          },
          "metadata": {},
          "execution_count": 97
        }
      ]
    },
    {
      "cell_type": "code",
      "metadata": {
        "id": "qQaBKZ0JoKZG"
      },
      "source": [
        "from sklearn.svm import LinearSVC\n",
        "from sklearn.feature_selection import SelectFromModel\n",
        "rf_Model_4 = RandomForestClassifier(n_estimators=10, max_depth=4,\n",
        "                                    min_samples_split=5, min_samples_leaf=2,\n",
        "                                    max_features='sqrt',bootstrap=False,random_state = 42).fit(X_train2,y_train_CO4)"
      ],
      "execution_count": null,
      "outputs": []
    },
    {
      "cell_type": "code",
      "metadata": {
        "id": "2fzkjKbhoWpw"
      },
      "source": [
        "model_CO4 = SelectFromModel(rf_Model_4, prefit=True)\n",
        "X_CO4_new = model_CO4.transform(X_train2)"
      ],
      "execution_count": null,
      "outputs": []
    },
    {
      "cell_type": "code",
      "metadata": {
        "colab": {
          "base_uri": "https://localhost:8080/"
        },
        "id": "Lw9IOnBCoxjk",
        "outputId": "f5651284-b448-40d4-c902-ebf5fa7790f9"
      },
      "source": [
        "#model_CO4.get_support()"
      ],
      "execution_count": null,
      "outputs": [
        {
          "output_type": "execute_result",
          "data": {
            "text/plain": [
              "(54675,)"
            ]
          },
          "metadata": {},
          "execution_count": 278
        }
      ]
    },
    {
      "cell_type": "code",
      "metadata": {
        "id": "Ro6We1hii7Vd"
      },
      "source": [
        "#********CO4************#####\n",
        "#lsvc_CO4 = LinearSVC(C=0.01, penalty=\"l1\", dual=False).fit(X_train2, y_train_CO4)\n",
        "#rf_Model_4 = RandomForestClassifier(n_estimators=10, max_depth=4,\n",
        "#                                  min_samples_split=5, min_samples_leaf=2,\n",
        "#                                  max_features='sqrt',bootstrap=False,random_state = 42)\n",
        "#model_CO4 = SelectFromModel(rf_Model_4).fit(X_train2,y_train_CO4)\n",
        "#X_CO4 = model_CO4.transform(X_train2)\n"
      ],
      "execution_count": null,
      "outputs": []
    },
    {
      "cell_type": "code",
      "metadata": {
        "id": "7H0ZuYVRjH5b"
      },
      "source": [
        "#X_train_CO4, X_test_CO4, y_train_CO4_n, y_test_CO4_n = train_test_split(X_CO4, y_train_CO4, test_size=0.20, random_state=21)"
      ],
      "execution_count": null,
      "outputs": []
    },
    {
      "cell_type": "code",
      "metadata": {
        "colab": {
          "base_uri": "https://localhost:8080/"
        },
        "id": "ZfEtZfNHWOrZ",
        "outputId": "c3301fce-399b-4f9a-f869-410e9c19b068"
      },
      "source": [
        "#from sklearn.model_selection import GridSearchCV\n",
        "##from sklearn.ensemble import AdaBoostClassifier\n",
        "#grid = dict()\n",
        "#grid['n_estimators'] = [10, 50, 100, 500]\n",
        "#grid['learning_rate'] = [0.0001, 0.001, 0.01, 0.1, 1.0]\n",
        "##grid['algorithm'] = ['SAMME', 'SAMME.R']\n",
        "\n",
        "\n",
        "#grid_search = GridSearchCV(estimator=AdaBoostClassifier(), param_grid=grid, n_jobs=-1, cv=10, scoring='accuracy')\n",
        "# execute the grid search\n",
        "#grid_result = grid_search.fit(X_train_CO4, y_train_CO4_n)\n",
        "# summarize the best score and configuration\n",
        "#print(\"Best: %f using %s\" % (grid_result.best_score_, grid_result.best_params_))\n",
        "\n"
      ],
      "execution_count": null,
      "outputs": [
        {
          "output_type": "stream",
          "name": "stdout",
          "text": [
            "Best: 0.860185 using {'algorithm': 'SAMME', 'learning_rate': 1.0, 'n_estimators': 100}\n"
          ]
        }
      ]
    },
    {
      "cell_type": "code",
      "metadata": {
        "id": "GP6uXCQHjaf5"
      },
      "source": [
        "rf_Model_4 = RandomForestClassifier(n_estimators=10, max_depth=4,\n",
        "                                   min_samples_split=5, min_samples_leaf=2,\n",
        "                                   max_features='sqrt',bootstrap=False,random_state = 42)"
      ],
      "execution_count": null,
      "outputs": []
    },
    {
      "cell_type": "code",
      "metadata": {
        "id": "Yh9iOxZVjnzs"
      },
      "source": [
        "rf_Model_4 = rf_Model_4.fit(X_CO4_new,y_train_CO4)"
      ],
      "execution_count": null,
      "outputs": []
    },
    {
      "cell_type": "code",
      "metadata": {
        "id": "WugkWqnftPb1"
      },
      "source": [
        "#*******Getting test data of shape of same as train data***********\n",
        "arr_ind_CO4 = model_CO4.get_support()\n",
        "#arr_ind.shape\n",
        "\n",
        "X_test_CO4_new = np.zeros((X_test2.shape[0],X_CO4_new.shape[1]))\n",
        "j = 0\n",
        "for i in range(arr_ind_CO4.shape[0]):\n",
        "    if(arr_ind_CO4[i] == True):\n",
        "      X_test_CO4_new[:,j] = X_test2[:,i]\n",
        "      j = j+1"
      ],
      "execution_count": null,
      "outputs": []
    },
    {
      "cell_type": "code",
      "metadata": {
        "id": "SWNAOtJsjvR0"
      },
      "source": [
        "y_pred_CO4 = rf_Model_4.predict(X_test_CO4_new)"
      ],
      "execution_count": null,
      "outputs": []
    },
    {
      "cell_type": "code",
      "metadata": {
        "colab": {
          "base_uri": "https://localhost:8080/"
        },
        "id": "L9wuTqKTXEho",
        "outputId": "6689ab25-d22a-4d5f-d174-7528fe632c7f"
      },
      "source": [
        "y_pred_CO4 #Isko improve karna hai"
      ],
      "execution_count": null,
      "outputs": [
        {
          "output_type": "execute_result",
          "data": {
            "text/plain": [
              "array([0, 0, 0, 0, 0, 0, 0, 0, 0, 0, 0, 0, 0, 0, 0, 0, 0, 0, 0, 0, 0, 1,\n",
              "       0, 0, 0, 0, 0, 0, 0, 0, 0, 0, 0, 0, 0, 0, 0, 0, 0, 0, 0, 0, 0, 0,\n",
              "       0, 0, 0, 0, 0, 0, 0, 0, 0, 0, 0, 0, 0, 0, 0, 0, 0, 0, 0, 0, 0, 0,\n",
              "       0, 0, 0, 0, 0, 0, 0, 0, 0, 0, 1, 0, 0, 0, 0, 1, 0, 0, 0, 0, 0, 0,\n",
              "       0, 0, 0, 0, 0, 0, 0, 0, 0, 0, 0, 0, 0, 1, 0, 0, 0, 0, 0, 0, 0, 0,\n",
              "       0, 0, 0, 0, 0, 0, 0, 0, 0, 0, 0, 0, 0, 0, 0, 0, 0, 0, 0, 0, 0, 0,\n",
              "       0, 0, 0, 0, 0, 0, 0, 0, 0, 0, 0, 0, 0, 0, 0, 0, 0, 0, 0, 0, 0, 0,\n",
              "       0, 0, 0, 1, 0, 0, 1, 0, 1, 0, 0, 0, 1, 0, 0, 0, 0, 0, 0, 0, 0, 0,\n",
              "       0, 0, 0, 0, 0, 0, 1, 0, 0, 0, 0, 0, 1, 0, 0, 0, 0, 0, 0, 0, 0, 0,\n",
              "       0, 0, 0, 0, 0, 0, 0, 0, 0, 0, 0, 0, 0, 0, 0, 0])"
            ]
          },
          "metadata": {},
          "execution_count": 52
        }
      ]
    },
    {
      "cell_type": "code",
      "metadata": {
        "colab": {
          "base_uri": "https://localhost:8080/"
        },
        "id": "M8rL0BScj6uO",
        "outputId": "d15b18ca-3f74-4bf6-a2e6-c2947dbe8392"
      },
      "source": [
        "#c = confusion_matrix(y_test_CO4_n, y_pred_CO4)\n",
        "#MCC_Score(c[1][1],c[0][0],c[0][1],c[1][0])"
      ],
      "execution_count": null,
      "outputs": [
        {
          "output_type": "execute_result",
          "data": {
            "text/plain": [
              "0.3098898934004561"
            ]
          },
          "metadata": {},
          "execution_count": 235
        }
      ]
    },
    {
      "cell_type": "code",
      "metadata": {
        "id": "78cKuCm0nVco"
      },
      "source": [
        "#********CO5************************\n",
        "#rf_Model_5 = RandomForestClassifier(n_estimators=72, max_depth=4,\n",
        "#                                  min_samples_split=5, min_samples_leaf=1,\n",
        "#                                  max_features='sqrt',bootstrap=False,random_state = 4)\n",
        "from sklearn.ensemble import AdaBoostClassifier\n",
        "abc5 = AdaBoostClassifier(base_estimator=None, n_estimators=100, learning_rate=1.0,\n",
        "                          algorithm='SAMME.R', random_state=42)\n",
        "model_CO5 = SelectFromModel(abc5).fit(X_train2,y_train_CO5)\n",
        "X_CO5 = model_CO5.transform(X_train2)"
      ],
      "execution_count": null,
      "outputs": []
    },
    {
      "cell_type": "code",
      "metadata": {
        "id": "gHfZsK0Qnwhf"
      },
      "source": [
        "#X_train_CO5, X_test_CO5, y_train_CO5, y_test_CO5 = train_test_split(X_CO5, y_train_CO5, test_size=0.20, random_state=21)"
      ],
      "execution_count": null,
      "outputs": []
    },
    {
      "cell_type": "code",
      "metadata": {
        "id": "xN-xmaAYn6VO"
      },
      "source": [
        "#rf_Model_5 = RandomForestClassifier(n_estimators=72, max_depth=4,\n",
        "#                                  min_samples_split=5, min_samples_leaf=1,\n",
        "#                                  max_features='sqrt',bootstrap=False,random_state = 4)"
      ],
      "execution_count": null,
      "outputs": []
    },
    {
      "cell_type": "code",
      "metadata": {
        "id": "OOIZIKuesxSu"
      },
      "source": [
        "abc5 = AdaBoostClassifier(base_estimator=None, n_estimators=100, learning_rate=1.0,\n",
        "                          algorithm='SAMME.R', random_state=42)"
      ],
      "execution_count": null,
      "outputs": []
    },
    {
      "cell_type": "code",
      "metadata": {
        "id": "PV88qp_ntnLP"
      },
      "source": [
        " #*******Getting test data of shape of same as train data***********\n",
        "arr_ind = model_CO5.get_support()\n",
        "arr_ind.shape\n",
        "\n",
        "X_test_CO5_new = np.zeros((X_test2.shape[0],X_CO5.shape[1]))\n",
        "j = 0\n",
        "for i in range(arr_ind.shape[0]):\n",
        "    if(arr_ind[i] == True):\n",
        "      X_test_CO5_new[:,j] = X_test2[:,i]\n",
        "      j = j+1"
      ],
      "execution_count": null,
      "outputs": []
    },
    {
      "cell_type": "code",
      "metadata": {
        "id": "qQK5TAOLoBaG"
      },
      "source": [
        "abc5 = abc5.fit(X_CO5,y_train_CO5)\n",
        "y_pred_CO5 = abc5.predict(X_test_CO5_new)\n"
      ],
      "execution_count": null,
      "outputs": []
    },
    {
      "cell_type": "code",
      "metadata": {
        "colab": {
          "base_uri": "https://localhost:8080/"
        },
        "id": "px2oQ-MBXu_M",
        "outputId": "b68e73c1-ac9a-446b-95e5-172546f01085"
      },
      "source": [
        "y_pred_CO5"
      ],
      "execution_count": null,
      "outputs": [
        {
          "output_type": "execute_result",
          "data": {
            "text/plain": [
              "array([1, 0, 1, 0, 1, 0, 1, 0, 1, 0, 0, 1, 0, 1, 0, 0, 0, 0, 1, 0, 0, 1,\n",
              "       0, 0, 1, 0, 1, 0, 1, 1, 0, 1, 1, 1, 0, 0, 0, 0, 1, 1, 0, 1, 0, 1,\n",
              "       0, 0, 1, 0, 1, 0, 0, 0, 0, 0, 0, 0, 0, 1, 0, 0, 0, 0, 0, 0, 0, 0,\n",
              "       0, 1, 1, 1, 0, 0, 0, 0, 0, 0, 0, 0, 0, 1, 0, 0, 0, 0, 0, 0, 1, 0,\n",
              "       1, 0, 0, 0, 0, 1, 0, 1, 1, 0, 0, 0, 1, 1, 0, 0, 0, 0, 0, 1, 0, 1,\n",
              "       0, 1, 0, 0, 0, 0, 0, 1, 1, 0, 0, 0, 1, 1, 1, 0, 0, 0, 0, 1, 1, 1,\n",
              "       0, 0, 1, 1, 0, 1, 1, 0, 1, 0, 1, 0, 0, 0, 0, 0, 1, 0, 0, 0, 0, 1,\n",
              "       1, 1, 1, 1, 0, 1, 1, 0, 1, 1, 0, 0, 1, 0, 0, 1, 1, 0, 1, 1, 0, 0,\n",
              "       0, 1, 0, 1, 1, 0, 1, 1, 1, 1, 0, 0, 0, 0, 0, 0, 1, 0, 1, 0, 1, 1,\n",
              "       0, 0, 0, 1, 0, 0, 0, 1, 0, 1, 0, 0, 0, 1, 1, 0])"
            ]
          },
          "metadata": {},
          "execution_count": 57
        }
      ]
    },
    {
      "cell_type": "code",
      "metadata": {
        "colab": {
          "base_uri": "https://localhost:8080/"
        },
        "id": "IuF42YlRoKOD",
        "outputId": "7565c325-3674-469b-8c88-c7fa50d4c660"
      },
      "source": [
        "#c = confusion_matrix(y_test_CO5, y_pred_CO5)\n",
        "#MCC_Score(c[1][1],c[0][0],c[0][1],c[1][0])"
      ],
      "execution_count": null,
      "outputs": [
        {
          "output_type": "execute_result",
          "data": {
            "text/plain": [
              "0.8927543800512034"
            ]
          },
          "metadata": {},
          "execution_count": 252
        }
      ]
    },
    {
      "cell_type": "code",
      "metadata": {
        "id": "Kzlkvu0JP544"
      },
      "source": [
        "#***********CO6******************\n",
        "from sklearn.svm import LinearSVC\n",
        "from sklearn.feature_selection import SelectFromModel\n",
        "#lsvc = LinearSVC(C=0.01, penalty=\"l1\", dual=False).fit(X_train2, y_train_CO6)\n",
        "rf_Model_6 = RandomForestClassifier(n_estimators=25, max_depth=4,\n",
        "                                  min_samples_split=2, min_samples_leaf=2,\n",
        "                                  max_features='sqrt',bootstrap=False,random_state = 4)\n",
        "model = SelectFromModel(rf_Model_6).fit(X_train2,y_train_CO6)\n",
        "X_new = model.transform(X_train2)"
      ],
      "execution_count": null,
      "outputs": []
    },
    {
      "cell_type": "code",
      "metadata": {
        "colab": {
          "base_uri": "https://localhost:8080/"
        },
        "id": "T-nEqCUoRKsI",
        "outputId": "f629c6c2-2c27-4fad-b8dc-9f2e83e3dc84"
      },
      "source": [
        "X_new.shape"
      ],
      "execution_count": null,
      "outputs": [
        {
          "output_type": "execute_result",
          "data": {
            "text/plain": [
              "(340, 79)"
            ]
          },
          "metadata": {},
          "execution_count": 19
        }
      ]
    },
    {
      "cell_type": "code",
      "metadata": {
        "colab": {
          "base_uri": "https://localhost:8080/"
        },
        "id": "RijnbDrMSSWy",
        "outputId": "300526e9-88b3-474a-8276-6e9a3bbae7dc"
      },
      "source": [
        "y_train_CO6.shape"
      ],
      "execution_count": null,
      "outputs": [
        {
          "output_type": "execute_result",
          "data": {
            "text/plain": [
              "(340,)"
            ]
          },
          "metadata": {},
          "execution_count": 27
        }
      ]
    },
    {
      "cell_type": "code",
      "metadata": {
        "id": "plU0MILMRrs4"
      },
      "source": [
        "#from sklearn.model_selection import train_test_split\n",
        "#X_train_CO6, X_test_CO6, y_train_CO6, y_test_CO6 = train_test_split(X_new, y_train_CO6, test_size=0.20, random_state=21)"
      ],
      "execution_count": null,
      "outputs": []
    },
    {
      "cell_type": "code",
      "metadata": {
        "colab": {
          "base_uri": "https://localhost:8080/"
        },
        "id": "jNZ2i21FSHKC",
        "outputId": "e2a30263-300e-4ffe-d4c5-2ad19669de63"
      },
      "source": [
        "X_train_CO6.shape"
      ],
      "execution_count": null,
      "outputs": [
        {
          "output_type": "execute_result",
          "data": {
            "text/plain": [
              "(272, 79)"
            ]
          },
          "metadata": {},
          "execution_count": 29
        }
      ]
    },
    {
      "cell_type": "code",
      "metadata": {
        "colab": {
          "base_uri": "https://localhost:8080/"
        },
        "id": "Yg0WYhJxRIf2",
        "outputId": "2599f9ee-1651-4e1f-e8a6-382cc7644ce8"
      },
      "source": [
        "X_train2.shape"
      ],
      "execution_count": null,
      "outputs": [
        {
          "output_type": "execute_result",
          "data": {
            "text/plain": [
              "(340, 54675)"
            ]
          },
          "metadata": {},
          "execution_count": 18
        }
      ]
    },
    {
      "cell_type": "code",
      "metadata": {
        "id": "5p3laiGDQagy"
      },
      "source": [
        "from sklearn.ensemble import RandomForestClassifier\n",
        "rf_Model_6 = RandomForestClassifier(n_estimators=25, max_depth=4,\n",
        "                                  min_samples_split=2, min_samples_leaf=2,\n",
        "                                  max_features='sqrt',bootstrap=False,random_state = 4)"
      ],
      "execution_count": null,
      "outputs": []
    },
    {
      "cell_type": "code",
      "metadata": {
        "id": "pvQAZyffuFKZ"
      },
      "source": [
        " #*******Getting test data of shape of same as train data***********\n",
        "arr_ind = model.get_support()\n",
        "arr_ind.shape\n",
        "\n",
        "X_test_CO6_new = np.zeros((X_test2.shape[0],X_new.shape[1]))\n",
        "j = 0\n",
        "for i in range(arr_ind.shape[0]):\n",
        "    if(arr_ind[i] == True):\n",
        "      X_test_CO6_new[:,j] = X_test2[:,i]\n",
        "      j = j+1"
      ],
      "execution_count": null,
      "outputs": []
    },
    {
      "cell_type": "code",
      "metadata": {
        "id": "swMHNy26S7Ov"
      },
      "source": [
        "rf_Model_6 = rf_Model_6.fit(X_new,y_train_CO6)"
      ],
      "execution_count": null,
      "outputs": []
    },
    {
      "cell_type": "code",
      "metadata": {
        "id": "UVN0WqC1TC8Q"
      },
      "source": [
        "y_pred_CO6 = rf_Model_6.predict(X_test_CO6_new)"
      ],
      "execution_count": null,
      "outputs": []
    },
    {
      "cell_type": "code",
      "metadata": {
        "colab": {
          "base_uri": "https://localhost:8080/"
        },
        "id": "FnEzJ2D6ueYd",
        "outputId": "631375e2-6110-4f0c-a56a-f604207f96ec"
      },
      "source": [
        "y_pred_CO6"
      ],
      "execution_count": null,
      "outputs": [
        {
          "output_type": "execute_result",
          "data": {
            "text/plain": [
              "array([1, 1, 1, 1, 0, 0, 1, 1, 1, 1, 1, 1, 1, 0, 0, 0, 1, 0, 1, 1, 1, 1,\n",
              "       1, 1, 1, 1, 0, 1, 0, 0, 0, 0, 1, 1, 1, 0, 1, 1, 1, 1, 1, 1, 1, 1,\n",
              "       0, 1, 0, 1, 1, 1, 1, 1, 1, 1, 1, 1, 0, 1, 1, 1, 1, 1, 1, 1, 1, 1,\n",
              "       1, 1, 1, 1, 0, 1, 1, 0, 0, 0, 1, 0, 1, 1, 0, 1, 0, 1, 1, 1, 1, 1,\n",
              "       0, 0, 1, 0, 1, 1, 1, 1, 0, 1, 0, 0, 0, 0, 1, 1, 1, 0, 0, 1, 1, 1,\n",
              "       1, 1, 0, 1, 1, 1, 0, 0, 1, 1, 0, 1, 1, 1, 1, 1, 1, 1, 1, 1, 0, 1,\n",
              "       1, 0, 1, 1, 1, 0, 1, 1, 1, 1, 1, 0, 1, 1, 1, 1, 1, 1, 0, 1, 1, 1,\n",
              "       0, 1, 0, 0, 0, 1, 0, 1, 0, 0, 0, 1, 1, 1, 0, 0, 1, 1, 0, 0, 0, 0,\n",
              "       0, 0, 1, 1, 1, 0, 1, 0, 0, 0, 1, 0, 0, 1, 0, 1, 1, 0, 0, 0, 1, 0,\n",
              "       1, 0, 0, 1, 1, 1, 0, 0, 0, 1, 1, 1, 0, 1, 1, 1])"
            ]
          },
          "metadata": {},
          "execution_count": 63
        }
      ]
    },
    {
      "cell_type": "code",
      "metadata": {
        "colab": {
          "base_uri": "https://localhost:8080/"
        },
        "id": "42H-2S97X8Y1",
        "outputId": "e94685ac-dc40-466f-dfd3-2652c112c417"
      },
      "source": [
        "#from sklearn.metrics import confusion_matrix\n",
        "#c = confusion_matrix(y_test_CO6, y_pred_CO6)\n",
        "#MCC_Score(c[1][1],c[0][0],c[0][1],c[1][0])"
      ],
      "execution_count": null,
      "outputs": [
        {
          "output_type": "execute_result",
          "data": {
            "text/plain": [
              "0.24159717180424753"
            ]
          },
          "metadata": {},
          "execution_count": 182
        }
      ]
    },
    {
      "cell_type": "code",
      "metadata": {
        "colab": {
          "base_uri": "https://localhost:8080/"
        },
        "id": "yGPAIjQcTNwY",
        "outputId": "8ed5d6e5-ceaa-48ab-e8c1-2bda25036895"
      },
      "source": [
        "#from sklearn.metrics import accuracy_score\n",
        "#accuracy_score(y_test_CO6, y_pred_CO6)"
      ],
      "execution_count": null,
      "outputs": [
        {
          "output_type": "execute_result",
          "data": {
            "text/plain": [
              "0.6176470588235294"
            ]
          },
          "metadata": {},
          "execution_count": 35
        }
      ]
    },
    {
      "cell_type": "code",
      "metadata": {
        "colab": {
          "base_uri": "https://localhost:8080/"
        },
        "id": "29DlfnrDIALk",
        "outputId": "79ec18d9-9ab9-452c-9947-6150b439187c"
      },
      "source": [
        "X_test2.shape"
      ],
      "execution_count": null,
      "outputs": [
        {
          "output_type": "execute_result",
          "data": {
            "text/plain": [
              "(214, 54675)"
            ]
          },
          "metadata": {},
          "execution_count": 14
        }
      ]
    },
    {
      "cell_type": "code",
      "metadata": {
        "id": "pAHfBZeN7kLx"
      },
      "source": [
        "arr = np.concatenate((y_pred_CO1,y_pred_CO2,y_pred_CO3,y_pred_CO4,y_pred_CO5,y_pred_CO6),axis = 0)\n",
        "d = {'Predicted':arr}\n",
        "index = []\n",
        "for i in range(0,1056):\n",
        "    index.append(i)\n",
        "df = pd.DataFrame(data = d)\n",
        "df.insert(0,'Id',index)\n",
        "df.to_csv('JayHo3.csv',index=False)"
      ],
      "execution_count": null,
      "outputs": []
    }
  ]
}